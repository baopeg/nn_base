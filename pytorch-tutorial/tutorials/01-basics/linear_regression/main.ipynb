{
 "cells": [
  {
   "cell_type": "code",
   "execution_count": 1,
   "id": "3b3dd22e-b397-454d-a56d-23107b3c5ca5",
   "metadata": {},
   "outputs": [],
   "source": [
    "import  torch\n",
    "import torch.nn as nn\n",
    "import numpy as np\n",
    "import matplotlib.pyplot as plt"
   ]
  },
  {
   "cell_type": "code",
   "execution_count": 6,
   "id": "75746bc4-5693-4184-8c20-ac9e71abdc95",
   "metadata": {},
   "outputs": [],
   "source": [
    "input_size = 1\n",
    "output_size = 1\n",
    "num_epochs = 60\n",
    "learning_rate = 0.001"
   ]
  },
  {
   "cell_type": "code",
   "execution_count": 7,
   "id": "97899383-ad78-47ff-98d2-eaf4f63dbffc",
   "metadata": {},
   "outputs": [],
   "source": [
    "x_train = np.array([[3.3], [4.4], [5.5], [6.71], [6.93], [4.168], \n",
    "                    [9.779], [6.182], [7.59], [2.167], [7.042], \n",
    "                    [10.791], [5.313], [7.997], [3.1]], dtype=np.float32)\n",
    "\n",
    "y_train = np.array([[1.7], [2.76], [2.09], [3.19], [1.694], [1.573], \n",
    "                    [3.366], [2.596], [2.53], [1.221], [2.827], \n",
    "                    [3.465], [1.65], [2.904], [1.3]], dtype=np.float32)"
   ]
  },
  {
   "cell_type": "code",
   "execution_count": 8,
   "id": "54f5bad0-e8f1-4190-a5d2-062c8c9c708f",
   "metadata": {},
   "outputs": [
    {
     "data": {
      "text/plain": [
       "(array([[ 3.3  ],\n",
       "        [ 4.4  ],\n",
       "        [ 5.5  ],\n",
       "        [ 6.71 ],\n",
       "        [ 6.93 ],\n",
       "        [ 4.168],\n",
       "        [ 9.779],\n",
       "        [ 6.182],\n",
       "        [ 7.59 ],\n",
       "        [ 2.167],\n",
       "        [ 7.042],\n",
       "        [10.791],\n",
       "        [ 5.313],\n",
       "        [ 7.997],\n",
       "        [ 3.1  ]], dtype=float32),\n",
       " array([[1.7  ],\n",
       "        [2.76 ],\n",
       "        [2.09 ],\n",
       "        [3.19 ],\n",
       "        [1.694],\n",
       "        [1.573],\n",
       "        [3.366],\n",
       "        [2.596],\n",
       "        [2.53 ],\n",
       "        [1.221],\n",
       "        [2.827],\n",
       "        [3.465],\n",
       "        [1.65 ],\n",
       "        [2.904],\n",
       "        [1.3  ]], dtype=float32))"
      ]
     },
     "execution_count": 8,
     "metadata": {},
     "output_type": "execute_result"
    }
   ],
   "source": [
    "x_train,y_train"
   ]
  },
  {
   "cell_type": "code",
   "execution_count": 10,
   "id": "037c3b04-3bb6-4ee5-ad75-198178a7f5a5",
   "metadata": {},
   "outputs": [],
   "source": [
    "model = nn.Linear(input_size,output_size)"
   ]
  },
  {
   "cell_type": "code",
   "execution_count": 12,
   "id": "2227546d-c322-42a2-9ab2-8c7d14a5a772",
   "metadata": {},
   "outputs": [],
   "source": [
    "criterion = nn.MSELoss()\n",
    "optimiter = torch.optim.SGD(model.parameters(),lr=learning_rate)"
   ]
  },
  {
   "cell_type": "code",
   "execution_count": 14,
   "id": "e5e3cac8-5b81-4eeb-9325-76ed8857f195",
   "metadata": {},
   "outputs": [
    {
     "name": "stdout",
     "output_type": "stream",
     "text": [
      "Epoch [5/60], Loss: 25.5173\n",
      "Epoch [10/60], Loss: 10.4445\n",
      "Epoch [15/60], Loss: 4.3383\n",
      "Epoch [20/60], Loss: 1.8645\n",
      "Epoch [25/60], Loss: 0.8623\n",
      "Epoch [30/60], Loss: 0.4563\n",
      "Epoch [35/60], Loss: 0.2918\n",
      "Epoch [40/60], Loss: 0.2252\n",
      "Epoch [45/60], Loss: 0.1981\n",
      "Epoch [50/60], Loss: 0.1872\n",
      "Epoch [55/60], Loss: 0.1827\n",
      "Epoch [60/60], Loss: 0.1809\n"
     ]
    }
   ],
   "source": [
    "for epoch in range(num_epochs):\n",
    "    inputs = torch.from_numpy(x_train)\n",
    "    targets = torch.from_numpy(y_train)\n",
    "    \n",
    "    \n",
    "    outputs = model(inputs)\n",
    "    loss = criterion(outputs,targets)\n",
    "    \n",
    "    \n",
    "    optimiter.zero_grad()\n",
    "    loss.backward()\n",
    "    optimiter.step()\n",
    "    \n",
    "    if (epoch+1) % 5 ==0:\n",
    "         print ('Epoch [{}/{}], Loss: {:.4f}'.format(epoch+1, \n",
    "                                                     num_epochs,\n",
    "                                                     loss.item()))     "
   ]
  },
  {
   "cell_type": "code",
   "execution_count": 15,
   "id": "c5b376bd-2302-4059-8e71-fd975103d6d3",
   "metadata": {},
   "outputs": [
    {
     "data": {
      "image/png": "[encoded data removed]",
      "text/plain": [
       "<Figure size 640x480 with 1 Axes>"
      ]
     },
     "metadata": {},
     "output_type": "display_data"
    }
   ],
   "source": [
    "predicted = model(torch.from_numpy(x_train)).detach().numpy()\n",
    "plt.plot(x_train, y_train, 'ro', label='Original data')\n",
    "plt.plot(x_train, predicted, label='Fitted line')\n",
    "plt.legend()\n",
    "plt.show()"
   ]
  },
  {
   "cell_type": "code",
   "execution_count": 16,
   "id": "024526ad-1ffc-4aa8-8d02-af7888d03af7",
   "metadata": {},
   "outputs": [],
   "source": [
    "torch.save(model.state_dict(), 'model.ckpt')"
   ]
  },
  {
   "cell_type": "code",
   "execution_count": null,
   "id": "4289d409-f83b-4e7a-89e8-9ff77af6f857",
   "metadata": {},
   "outputs": [],
   "source": []
  }
 ],
 "metadata": {
  "kernelspec": {
   "display_name": "pytorch-tutorial",
   "language": "python",
   "name": "pytorch-tutorial"
  },
  "language_info": {
   "codemirror_mode": {
    "name": "ipython",
    "version": 3
   },
   "file_extension": ".py",
   "mimetype": "text/x-python",
   "name": "python",
   "nbconvert_exporter": "python",
   "pygments_lexer": "ipython3",
   "version": "3.10.18"
  }
 },
 "nbformat": 4,
 "nbformat_minor": 5
}
