{
 "cells": [
  {
   "cell_type": "code",
   "execution_count": 1,
   "id": "57fafa7d-1865-4fbd-8035-16675eddd21b",
   "metadata": {},
   "outputs": [],
   "source": [
    "import torch \n",
    "import torch.nn as nn\n",
    "import torchvision\n",
    "import torchvision.transforms as transforms"
   ]
  },
  {
   "cell_type": "code",
   "execution_count": 2,
   "id": "c02d7322-73dc-4c37-a82b-7e3a74662131",
   "metadata": {},
   "outputs": [],
   "source": [
    "# Device configuration\n",
    "device = torch.device('cuda:0' if torch.cuda.is_available() else 'cpu')\n",
    "\n",
    "# Hyper parameters\n",
    "num_epochs = 5\n",
    "num_classes = 10\n",
    "batch_size = 100\n",
    "learning_rate = 0.001"
   ]
  },
  {
   "cell_type": "code",
   "execution_count": 3,
   "id": "9c41219c-df2d-4b49-888b-42ccb341bf7f",
   "metadata": {},
   "outputs": [],
   "source": [
    "# MNIST dataset\n",
    "train_dataset = torchvision.datasets.MNIST(root='/root/nn_base/data/',\n",
    "                                           train=True, \n",
    "                                           transform=transforms.ToTensor(),\n",
    "                                           download=True)\n",
    "\n",
    "test_dataset = torchvision.datasets.MNIST(root='/root/nn_base/data/',\n",
    "                                          train=False, \n",
    "                                          transform=transforms.ToTensor())\n",
    "\n",
    "# Data loader\n",
    "train_loader = torch.utils.data.DataLoader(dataset=train_dataset,\n",
    "                                           batch_size=batch_size, \n",
    "                                           shuffle=True)\n",
    "\n",
    "test_loader = torch.utils.data.DataLoader(dataset=test_dataset,\n",
    "                                          batch_size=batch_size, \n",
    "                                          shuffle=False)"
   ]
  },
  {
   "cell_type": "code",
   "execution_count": 4,
   "id": "f17a20ee-aeb7-400e-b753-3574969f042a",
   "metadata": {},
   "outputs": [],
   "source": [
    "# Convolutional neural network (two convolutional layers)\n",
    "class ConvNet(nn.Module):\n",
    "    def __init__(self, num_classes=10):\n",
    "        super(ConvNet, self).__init__()\n",
    "        self.layer1 = nn.Sequential(\n",
    "            nn.Conv2d(1, 16, kernel_size=5, stride=1, padding=2),\n",
    "            nn.BatchNorm2d(16),\n",
    "            nn.ReLU(),\n",
    "            nn.MaxPool2d(kernel_size=2, stride=2))\n",
    "        self.layer2 = nn.Sequential(\n",
    "            nn.Conv2d(16, 32, kernel_size=5, stride=1, padding=2),\n",
    "            nn.BatchNorm2d(32),\n",
    "            nn.ReLU(),\n",
    "            nn.MaxPool2d(kernel_size=2, stride=2))\n",
    "        self.fc = nn.Linear(7*7*32, num_classes)\n",
    "        \n",
    "    def forward(self, x):\n",
    "        out = self.layer1(x)\n",
    "        out = self.layer2(out)\n",
    "        out = out.reshape(out.size(0), -1)\n",
    "        out = self.fc(out)\n",
    "        return out"
   ]
  },
  {
   "cell_type": "code",
   "execution_count": 5,
   "id": "6b65bbfc-c918-47c7-a0e6-e8afac1fe919",
   "metadata": {},
   "outputs": [],
   "source": [
    "model = ConvNet(num_classes).to(device)\n",
    "\n",
    "# Loss and optimizer\n",
    "criterion = nn.CrossEntropyLoss()\n",
    "optimizer = torch.optim.Adam(model.parameters(), lr=learning_rate)"
   ]
  },
  {
   "cell_type": "code",
   "execution_count": 6,
   "id": "4da23a29-0320-459b-9487-d6b3980893eb",
   "metadata": {},
   "outputs": [
    {
     "name": "stdout",
     "output_type": "stream",
     "text": [
      "Epoch [1/5], Step [100/600], Loss: 0.1525\n",
      "Epoch [1/5], Step [200/600], Loss: 0.0627\n",
      "Epoch [1/5], Step [300/600], Loss: 0.0454\n",
      "Epoch [1/5], Step [400/600], Loss: 0.0666\n",
      "Epoch [1/5], Step [500/600], Loss: 0.1264\n",
      "Epoch [1/5], Step [600/600], Loss: 0.0267\n",
      "Epoch [2/5], Step [100/600], Loss: 0.0504\n",
      "Epoch [2/5], Step [200/600], Loss: 0.1131\n",
      "Epoch [2/5], Step [300/600], Loss: 0.0279\n",
      "Epoch [2/5], Step [400/600], Loss: 0.0106\n",
      "Epoch [2/5], Step [500/600], Loss: 0.0113\n",
      "Epoch [2/5], Step [600/600], Loss: 0.0507\n",
      "Epoch [3/5], Step [100/600], Loss: 0.0671\n",
      "Epoch [3/5], Step [200/600], Loss: 0.0151\n",
      "Epoch [3/5], Step [300/600], Loss: 0.0484\n",
      "Epoch [3/5], Step [400/600], Loss: 0.0041\n",
      "Epoch [3/5], Step [500/600], Loss: 0.0329\n",
      "Epoch [3/5], Step [600/600], Loss: 0.0096\n",
      "Epoch [4/5], Step [100/600], Loss: 0.0351\n",
      "Epoch [4/5], Step [200/600], Loss: 0.0299\n",
      "Epoch [4/5], Step [300/600], Loss: 0.0157\n",
      "Epoch [4/5], Step [400/600], Loss: 0.0347\n",
      "Epoch [4/5], Step [500/600], Loss: 0.0654\n",
      "Epoch [4/5], Step [600/600], Loss: 0.0964\n",
      "Epoch [5/5], Step [100/600], Loss: 0.0062\n",
      "Epoch [5/5], Step [200/600], Loss: 0.0116\n",
      "Epoch [5/5], Step [300/600], Loss: 0.0518\n",
      "Epoch [5/5], Step [400/600], Loss: 0.0233\n",
      "Epoch [5/5], Step [500/600], Loss: 0.0049\n",
      "Epoch [5/5], Step [600/600], Loss: 0.1314\n"
     ]
    }
   ],
   "source": [
    "# Train the model\n",
    "total_step = len(train_loader)\n",
    "for epoch in range(num_epochs):\n",
    "    for i, (images, labels) in enumerate(train_loader):\n",
    "        images = images.to(device)\n",
    "        labels = labels.to(device)\n",
    "        \n",
    "        # Forward pass\n",
    "        outputs = model(images)\n",
    "        loss = criterion(outputs, labels)\n",
    "        \n",
    "        # Backward and optimize\n",
    "        optimizer.zero_grad()\n",
    "        loss.backward()\n",
    "        optimizer.step()\n",
    "        \n",
    "        if (i+1) % 100 == 0:\n",
    "            print ('Epoch [{}/{}], Step [{}/{}], Loss: {:.4f}' \n",
    "                   .format(epoch+1, num_epochs, i+1, total_step, loss.item()))"
   ]
  },
  {
   "cell_type": "code",
   "execution_count": 7,
   "id": "c2b627a5-8336-43cd-825b-4ffd197ad299",
   "metadata": {},
   "outputs": [
    {
     "name": "stdout",
     "output_type": "stream",
     "text": [
      "Test Accuracy of the model on the 10000 test images: 99.03 %\n"
     ]
    }
   ],
   "source": [
    "# Test the model\n",
    "model.eval()  # eval mode (batchnorm uses moving mean/variance instead of mini-batch mean/variance)\n",
    "with torch.no_grad():\n",
    "    correct = 0\n",
    "    total = 0\n",
    "    for images, labels in test_loader:\n",
    "        images = images.to(device)\n",
    "        labels = labels.to(device)\n",
    "        outputs = model(images)\n",
    "        _, predicted = torch.max(outputs.data, 1)\n",
    "        total += labels.size(0)\n",
    "        correct += (predicted == labels).sum().item()\n",
    "\n",
    "    print('Test Accuracy of the model on the 10000 test images: {} %'.format(100 * correct / total))"
   ]
  },
  {
   "cell_type": "code",
   "execution_count": 8,
   "id": "e01a4b5d-223c-4fd9-9ab7-4ac6bd11c8ae",
   "metadata": {},
   "outputs": [],
   "source": [
    "# Save the model checkpoint\n",
    "torch.save(model.state_dict(), 'model.ckpt')"
   ]
  }
 ],
 "metadata": {
  "kernelspec": {
   "display_name": "pytorch-tutorial",
   "language": "python",
   "name": "pytorch-tutorial"
  },
  "language_info": {
   "codemirror_mode": {
    "name": "ipython",
    "version": 3
   },
   "file_extension": ".py",
   "mimetype": "text/x-python",
   "name": "python",
   "nbconvert_exporter": "python",
   "pygments_lexer": "ipython3",
   "version": "3.10.18"
  }
 },
 "nbformat": 4,
 "nbformat_minor": 5
}
