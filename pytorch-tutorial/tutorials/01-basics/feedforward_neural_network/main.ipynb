{
 "cells": [
  {
   "cell_type": "code",
   "execution_count": 1,
   "id": "8a9097b7-f367-4f4e-8cd0-1f34d9c03d7d",
   "metadata": {},
   "outputs": [],
   "source": [
    "import torch\n",
    "import torch.nn as nn\n",
    "import torchvision\n",
    "import torchvision.transforms as transforms\n",
    "\n",
    "\n",
    "# Device configuration\n",
    "device = torch.device('cuda' if torch.cuda.is_available() else 'cpu')"
   ]
  },
  {
   "cell_type": "code",
   "execution_count": 2,
   "id": "41448828-627d-4f70-8f54-e66d9684b358",
   "metadata": {},
   "outputs": [],
   "source": [
    "# Hyper-parameters \n",
    "input_size = 784\n",
    "hidden_size = 500\n",
    "num_classes = 10\n",
    "num_epochs = 5\n",
    "batch_size = 100\n",
    "learning_rate = 0.001"
   ]
  },
  {
   "cell_type": "code",
   "execution_count": 3,
   "id": "976826a2-461b-4d9c-8573-ab3fe5f59515",
   "metadata": {},
   "outputs": [],
   "source": [
    "# MNIST dataset \n",
    "train_dataset = torchvision.datasets.MNIST(root='/root/nn_base/data', \n",
    "                                           train=True, \n",
    "                                           transform=transforms.ToTensor(),  \n",
    "                                           download=True)\n",
    "\n",
    "test_dataset = torchvision.datasets.MNIST(root='/root/nn_base/data', \n",
    "                                          train=False, \n",
    "                                          transform=transforms.ToTensor())\n",
    "\n",
    "# Data loader\n",
    "train_loader = torch.utils.data.DataLoader(dataset=train_dataset, \n",
    "                                           batch_size=batch_size, \n",
    "                                           shuffle=True)\n",
    "\n",
    "test_loader = torch.utils.data.DataLoader(dataset=test_dataset, \n",
    "                                          batch_size=batch_size, \n",
    "                                          shuffle=False)"
   ]
  },
  {
   "cell_type": "code",
   "execution_count": 4,
   "id": "aec130d4-b11f-4609-9282-e262150f9174",
   "metadata": {},
   "outputs": [],
   "source": [
    "# Fully connected neural network with one hidden layer\n",
    "class NeuralNet(nn.Module):\n",
    "    def __init__(self, input_size, hidden_size, num_classes):\n",
    "        super(NeuralNet, self).__init__()\n",
    "        self.fc1 = nn.Linear(input_size, hidden_size) \n",
    "        self.relu = nn.ReLU()\n",
    "        self.fc2 = nn.Linear(hidden_size, num_classes)  \n",
    "    \n",
    "    def forward(self, x):\n",
    "        out = self.fc1(x)\n",
    "        out = self.relu(out)\n",
    "        out = self.fc2(out)\n",
    "        return out"
   ]
  },
  {
   "cell_type": "code",
   "execution_count": 5,
   "id": "0de5208c-135b-4be0-a206-b5fadc07b4c5",
   "metadata": {},
   "outputs": [],
   "source": [
    "model = NeuralNet(input_size, hidden_size, num_classes).to(device)\n",
    "\n",
    "# Loss and optimizer\n",
    "criterion = nn.CrossEntropyLoss()\n",
    "optimizer = torch.optim.Adam(model.parameters(), lr=learning_rate)"
   ]
  },
  {
   "cell_type": "code",
   "execution_count": 6,
   "id": "f069cc87-67c8-4a2a-a5be-5082dcb6488c",
   "metadata": {},
   "outputs": [
    {
     "name": "stdout",
     "output_type": "stream",
     "text": [
      "Epoch [1/5], Step [100/600], Loss: 0.3601\n",
      "Epoch [1/5], Step [200/600], Loss: 0.3908\n",
      "Epoch [1/5], Step [300/600], Loss: 0.2653\n",
      "Epoch [1/5], Step [400/600], Loss: 0.2212\n",
      "Epoch [1/5], Step [500/600], Loss: 0.2211\n",
      "Epoch [1/5], Step [600/600], Loss: 0.1458\n",
      "Epoch [2/5], Step [100/600], Loss: 0.1518\n",
      "Epoch [2/5], Step [200/600], Loss: 0.1081\n",
      "Epoch [2/5], Step [300/600], Loss: 0.1191\n",
      "Epoch [2/5], Step [400/600], Loss: 0.0659\n",
      "Epoch [2/5], Step [500/600], Loss: 0.0413\n",
      "Epoch [2/5], Step [600/600], Loss: 0.0617\n",
      "Epoch [3/5], Step [100/600], Loss: 0.0528\n",
      "Epoch [3/5], Step [200/600], Loss: 0.0550\n",
      "Epoch [3/5], Step [300/600], Loss: 0.0411\n",
      "Epoch [3/5], Step [400/600], Loss: 0.0752\n",
      "Epoch [3/5], Step [500/600], Loss: 0.0549\n",
      "Epoch [3/5], Step [600/600], Loss: 0.1624\n",
      "Epoch [4/5], Step [100/600], Loss: 0.0276\n",
      "Epoch [4/5], Step [200/600], Loss: 0.0419\n",
      "Epoch [4/5], Step [300/600], Loss: 0.0436\n",
      "Epoch [4/5], Step [400/600], Loss: 0.0822\n",
      "Epoch [4/5], Step [500/600], Loss: 0.0267\n",
      "Epoch [4/5], Step [600/600], Loss: 0.0842\n",
      "Epoch [5/5], Step [100/600], Loss: 0.0180\n",
      "Epoch [5/5], Step [200/600], Loss: 0.0883\n",
      "Epoch [5/5], Step [300/600], Loss: 0.0390\n",
      "Epoch [5/5], Step [400/600], Loss: 0.0686\n",
      "Epoch [5/5], Step [500/600], Loss: 0.0534\n",
      "Epoch [5/5], Step [600/600], Loss: 0.0362\n"
     ]
    }
   ],
   "source": [
    "# Train the model\n",
    "total_step = len(train_loader)\n",
    "for epoch in range(num_epochs):\n",
    "    for i, (images, labels) in enumerate(train_loader):  \n",
    "        # Move tensors to the configured device\n",
    "        images = images.reshape(-1, 28*28).to(device)\n",
    "        labels = labels.to(device)\n",
    "        \n",
    "        # Forward pass\n",
    "        outputs = model(images)\n",
    "        loss = criterion(outputs, labels)\n",
    "        \n",
    "        # Backward and optimize\n",
    "        optimizer.zero_grad()\n",
    "        loss.backward()\n",
    "        optimizer.step()\n",
    "        \n",
    "        if (i+1) % 100 == 0:\n",
    "            print ('Epoch [{}/{}], Step [{}/{}], Loss: {:.4f}' \n",
    "                   .format(epoch+1, num_epochs, i+1, total_step, loss.item()))"
   ]
  },
  {
   "cell_type": "code",
   "execution_count": 8,
   "id": "2a8432cc-67d3-438d-aadc-69f6d92bd4bf",
   "metadata": {},
   "outputs": [
    {
     "name": "stdout",
     "output_type": "stream",
     "text": [
      "Accuracy of the network on the 10000 test images: 97.7 %\n"
     ]
    }
   ],
   "source": [
    " # Test the model\n",
    "# In test phase, we don't need to compute gradients (for memory efficiency)\n",
    "with torch.no_grad():\n",
    "    correct = 0\n",
    "    total = 0\n",
    "    for images, labels in test_loader:\n",
    "        images = images.reshape(-1, 28*28).to(device)\n",
    "        labels = labels.to(device)\n",
    "        outputs = model(images)\n",
    "        _, predicted = torch.max(outputs.data, 1)\n",
    "        total += labels.size(0)\n",
    "        correct += (predicted == labels).sum().item()\n",
    "\n",
    "    print('Accuracy of the network on the 10000 test images: {} %'.format(100 * correct / total))"
   ]
  },
  {
   "cell_type": "code",
   "execution_count": 9,
   "id": "7bb802cc-90a7-4513-a731-1b03cbed6501",
   "metadata": {},
   "outputs": [],
   "source": [
    "# Save the model checkpoint\n",
    "torch.save(model.state_dict(), 'model.ckpt')"
   ]
  },
  {
   "cell_type": "code",
   "execution_count": null,
   "id": "ec795fa9-a6c4-4453-8494-27cf2829d253",
   "metadata": {},
   "outputs": [],
   "source": []
  }
 ],
 "metadata": {
  "kernelspec": {
   "display_name": "pytorch-tutorial",
   "language": "python",
   "name": "pytorch-tutorial"
  },
  "language_info": {
   "codemirror_mode": {
    "name": "ipython",
    "version": 3
   },
   "file_extension": ".py",
   "mimetype": "text/x-python",
   "name": "python",
   "nbconvert_exporter": "python",
   "pygments_lexer": "ipython3",
   "version": "3.10.18"
  }
 },
 "nbformat": 4,
 "nbformat_minor": 5
}
