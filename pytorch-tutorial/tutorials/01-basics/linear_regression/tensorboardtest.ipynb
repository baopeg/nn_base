{
 "cells": [
  {
   "cell_type": "code",
   "execution_count": 5,
   "id": "a85cfaee-0d70-4cf3-a0bc-a9c5b78e4285",
   "metadata": {},
   "outputs": [
    {
     "name": "stderr",
     "output_type": "stream",
     "text": [
      "2025-07-09 16:21:59.441521: I tensorflow/core/util/port.cc:153] oneDNN custom operations are on. You may see slightly different numerical results due to floating-point round-off errors from different computation orders. To turn them off, set the environment variable `TF_ENABLE_ONEDNN_OPTS=0`.\n",
      "2025-07-09 16:21:59.912270: E external/local_xla/xla/stream_executor/cuda/cuda_fft.cc:467] Unable to register cuFFT factory: Attempting to register factory for plugin cuFFT when one has already been registered\n",
      "WARNING: All log messages before absl::InitializeLog() is called are written to STDERR\n",
      "E0000 00:00:1752049320.062159    1674 cuda_dnn.cc:8579] Unable to register cuDNN factory: Attempting to register factory for plugin cuDNN when one has already been registered\n",
      "E0000 00:00:1752049320.110465    1674 cuda_blas.cc:1407] Unable to register cuBLAS factory: Attempting to register factory for plugin cuBLAS when one has already been registered\n",
      "W0000 00:00:1752049320.445598    1674 computation_placer.cc:177] computation placer already registered. Please check linkage and avoid linking the same target more than once.\n",
      "W0000 00:00:1752049320.445626    1674 computation_placer.cc:177] computation placer already registered. Please check linkage and avoid linking the same target more than once.\n",
      "W0000 00:00:1752049320.445628    1674 computation_placer.cc:177] computation placer already registered. Please check linkage and avoid linking the same target more than once.\n",
      "W0000 00:00:1752049320.445630    1674 computation_placer.cc:177] computation placer already registered. Please check linkage and avoid linking the same target more than once.\n",
      "2025-07-09 16:22:00.486444: I tensorflow/core/platform/cpu_feature_guard.cc:210] This TensorFlow binary is optimized to use available CPU instructions in performance-critical operations.\n",
      "To enable the following instructions: AVX2 AVX512F AVX512_VNNI FMA, in other operations, rebuild TensorFlow with the appropriate compiler flags.\n"
     ]
    }
   ],
   "source": [
    "import torch\n",
    "import torch.nn as nn\n",
    "import numpy as np\n",
    "import matplotlib.pyplot as plt\n",
    "from torch.utils.tensorboard import SummaryWriter\n",
    "from datetime import datetime"
   ]
  },
  {
   "cell_type": "code",
   "execution_count": 7,
   "id": "843d60b7-3850-4ebb-bd96-6a28189177b3",
   "metadata": {},
   "outputs": [],
   "source": [
    "# Initialize TensorBoard writer\n",
    "timestamp = datetime.now().strftime('%Y%m%d_%H%M%S')\n",
    "writer = SummaryWriter(f'runs/linear_regression_{timestamp}')"
   ]
  },
  {
   "cell_type": "code",
   "execution_count": 8,
   "id": "a0236fb7-7e3a-4015-af11-3df86eaa4d74",
   "metadata": {},
   "outputs": [],
   "source": [
    "# Hyper-parameters\n",
    "input_size = 1\n",
    "output_size = 1\n",
    "num_epochs = 60\n",
    "learning_rate = 0.001"
   ]
  },
  {
   "cell_type": "code",
   "execution_count": 9,
   "id": "09793f98-feb1-4211-9985-bb8f40e51ee8",
   "metadata": {},
   "outputs": [],
   "source": [
    "# Toy dataset\n",
    "x_train = np.array([[3.3], [4.4], [5.5], [6.71], [6.93], [4.168], \n",
    "                    [9.779], [6.182], [7.59], [2.167], [7.042], \n",
    "                    [10.791], [5.313], [7.997], [3.1]], dtype=np.float32)\n",
    "\n",
    "y_train = np.array([[1.7], [2.76], [2.09], [3.19], [1.694], [1.573], \n",
    "                    [3.366], [2.596], [2.53], [1.221], [2.827], \n",
    "                    [3.465], [1.65], [2.904], [1.3]], dtype=np.float32)"
   ]
  },
  {
   "cell_type": "code",
   "execution_count": 10,
   "id": "c180e196-0225-45f2-a96a-a0f5f7447746",
   "metadata": {},
   "outputs": [],
   "source": [
    "# Convert to torch tensors and add to TensorBoard\n",
    "inputs_tensor = torch.from_numpy(x_train)\n",
    "targets_tensor = torch.from_numpy(y_train)\n",
    "\n",
    "# Linear regression model\n",
    "model = nn.Linear(input_size, output_size)\n",
    "\n",
    "# Log model graph and sample data\n",
    "writer.add_graph(model, inputs_tensor)\n",
    "writer.add_figure('training_data', plt.figure(figsize=(8, 6)), 0)\n",
    "plt.scatter(x_train, y_train)\n",
    "plt.title('Training Data')\n",
    "plt.close()\n",
    "\n",
    "# Loss and optimizer\n",
    "criterion = nn.MSELoss()\n",
    "optimizer = torch.optim.SGD(model.parameters(), lr=learning_rate)  "
   ]
  },
  {
   "cell_type": "code",
   "execution_count": 11,
   "id": "52deff9a-9c44-4585-97c9-e03053fb6ca6",
   "metadata": {},
   "outputs": [
    {
     "name": "stdout",
     "output_type": "stream",
     "text": [
      "Epoch [5/60], Loss: 0.6866\n",
      "Epoch [10/60], Loss: 0.3806\n",
      "Epoch [15/60], Loss: 0.2566\n",
      "Epoch [20/60], Loss: 0.2064\n",
      "Epoch [25/60], Loss: 0.1860\n",
      "Epoch [30/60], Loss: 0.1778\n",
      "Epoch [35/60], Loss: 0.1745\n",
      "Epoch [40/60], Loss: 0.1731\n",
      "Epoch [45/60], Loss: 0.1725\n",
      "Epoch [50/60], Loss: 0.1723\n",
      "Epoch [55/60], Loss: 0.1722\n",
      "Epoch [60/60], Loss: 0.1722\n"
     ]
    },
    {
     "data": {
      "image/png": "[encoded data removed]",
      "text/plain": [
       "<Figure size 640x480 with 1 Axes>"
      ]
     },
     "metadata": {},
     "output_type": "display_data"
    }
   ],
   "source": [
    "# Train the model\n",
    "for epoch in range(num_epochs):\n",
    "    # Forward pass\n",
    "    outputs = model(inputs_tensor)\n",
    "    loss = criterion(outputs, targets_tensor)\n",
    "    \n",
    "    # Backward and optimize\n",
    "    optimizer.zero_grad()\n",
    "    loss.backward()\n",
    "    optimizer.step()\n",
    "    \n",
    "    # Add scalar summaries for loss\n",
    "    writer.add_scalar('training_loss', loss.item(), epoch)\n",
    "    \n",
    "    # Add histograms for weights and gradients\n",
    "    for name, param in model.named_parameters():\n",
    "        writer.add_histogram(name, param, epoch)\n",
    "        writer.add_histogram(f'{name}.grad', param.grad, epoch)\n",
    "    \n",
    "    # Add sample predictions every 10 epochs\n",
    "    if epoch % 10 == 0:\n",
    "        predicted = model(inputs_tensor).detach().numpy()\n",
    "        fig = plt.figure(figsize=(8, 6))\n",
    "        plt.plot(x_train, y_train, 'ro', label='Original data')\n",
    "        plt.plot(x_train, predicted, label='Fitted line')\n",
    "        plt.legend()\n",
    "        plt.title(f'Epoch {epoch}')\n",
    "        writer.add_figure('predictions', fig, epoch)\n",
    "        plt.close()\n",
    "    \n",
    "    if (epoch+1) % 5 == 0:\n",
    "        print ('Epoch [{}/{}], Loss: {:.4f}'.format(epoch+1, num_epochs, loss.item()))\n",
    "\n",
    "# Plot the final graph\n",
    "predicted = model(inputs_tensor).detach().numpy()\n",
    "plt.plot(x_train, y_train, 'ro', label='Original data')\n",
    "plt.plot(x_train, predicted, label='Fitted line')\n",
    "plt.legend()\n",
    "plt.show()\n",
    "\n",
    "# Save the model checkpoint\n",
    "torch.save(model.state_dict(), 'model.ckpt')\n",
    "\n",
    "# Close the writer\n",
    "writer.close()"
   ]
  },
  {
   "cell_type": "code",
   "execution_count": null,
   "id": "80af72cc-f051-4583-a9cb-3259b5199006",
   "metadata": {},
   "outputs": [],
   "source": []
  }
 ],
 "metadata": {
  "kernelspec": {
   "display_name": "pytorch-tutorial",
   "language": "python",
   "name": "pytorch-tutorial"
  },
  "language_info": {
   "codemirror_mode": {
    "name": "ipython",
    "version": 3
   },
   "file_extension": ".py",
   "mimetype": "text/x-python",
   "name": "python",
   "nbconvert_exporter": "python",
   "pygments_lexer": "ipython3",
   "version": "3.10.18"
  }
 },
 "nbformat": 4,
 "nbformat_minor": 5
}
